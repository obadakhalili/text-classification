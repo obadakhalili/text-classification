{
 "cells": [
  {
   "cell_type": "markdown",
   "metadata": {},
   "source": [
    "# Reading the corpus "
   ]
  },
  {
   "cell_type": "code",
   "execution_count": 1,
   "metadata": {},
   "outputs": [],
   "source": [
    "import rarfile\n",
    "import re\n",
    "\n",
    "corpus = []\n",
    "\n",
    "with rarfile.RarFile(\"./data/corpus.rar\") as rar_corpus:\n",
    "    for file in rar_corpus.infolist():\n",
    "        if file.is_file():\n",
    "            with rar_corpus.open(file) as doc:\n",
    "                doc_class, doc_name = re.search(\n",
    "                    r\"training\\/(.*)\\/(.*)\", file.filename\n",
    "                ).groups()\n",
    "                doc_content = doc.read().decode(\"utf-8\")\n",
    "                corpus.append((doc_class, doc_content))"
   ]
  },
  {
   "cell_type": "markdown",
   "metadata": {},
   "source": [
    "# Building the dataset"
   ]
  },
  {
   "cell_type": "code",
   "execution_count": 4,
   "metadata": {},
   "outputs": [],
   "source": [
    "from sklearn.model_selection import train_test_split\n",
    "\n",
    "docs = [doc for _, doc in corpus]\n",
    "classes = [cls for cls, _ in corpus]"
   ]
  },
  {
   "cell_type": "code",
   "execution_count": 16,
   "metadata": {},
   "outputs": [
    {
     "data": {
      "image/png": "[encoded data removed]",
      "text/plain": [
       "<Figure size 432x288 with 1 Axes>"
      ]
     },
     "metadata": {
      "needs_background": "light"
     },
     "output_type": "display_data"
    }
   ],
   "source": [
    "import matplotlib.pyplot as plt\n",
    "\n",
    "plt.hist(classes)\n",
    "plt.show()"
   ]
  },
  {
   "cell_type": "code",
   "execution_count": 32,
   "metadata": {},
   "outputs": [
    {
     "data": {
      "image/png": "[encoded data removed]",
      "text/plain": [
       "<Figure size 432x288 with 1 Axes>"
      ]
     },
     "metadata": {
      "needs_background": "light"
     },
     "output_type": "display_data"
    }
   ],
   "source": [
    "train_docs, test_docs, train_classes, test_classes = train_test_split(\n",
    "    docs, classes, test_size=0.15, random_state=10\n",
    ")\n",
    "\n",
    "plt.hist(train_classes)\n",
    "plt.hist(test_classes)\n",
    "plt.show()"
   ]
  },
  {
   "cell_type": "markdown",
   "metadata": {},
   "source": [
    "# Feature extraction and selection from corpus"
   ]
  },
  {
   "cell_type": "code",
   "execution_count": 2,
   "metadata": {},
   "outputs": [
    {
     "name": "stderr",
     "output_type": "stream",
     "text": [
      "[nltk_data] Downloading package stopwords to\n",
      "[nltk_data]     /home/obadakhalili/nltk_data...\n",
      "[nltk_data]   Package stopwords is already up-to-date!\n"
     ]
    },
    {
     "data": {
      "text/plain": [
       "True"
      ]
     },
     "execution_count": 2,
     "metadata": {},
     "output_type": "execute_result"
    }
   ],
   "source": [
    "from sklearn.feature_extraction.text import TfidfVectorizer\n",
    "from sklearn.decomposition import TruncatedSVD\n",
    "from nltk.stem.porter import PorterStemmer\n",
    "from nltk.tokenize import word_tokenize\n",
    "from nltk.corpus import stopwords\n",
    "import nltk\n",
    "\n",
    "nltk.download(\"stopwords\")"
   ]
  },
  {
   "cell_type": "code",
   "execution_count": 109,
   "metadata": {},
   "outputs": [],
   "source": [
    "def tokenize_normalize(\n",
    "    doc,\n",
    "    tokenize=word_tokenize,\n",
    "    stem=PorterStemmer().stem,\n",
    "    stopwords=stopwords.words(\"english\"),\n",
    "):\n",
    "    return [\n",
    "        stem(token)\n",
    "        for token in tokenize(doc)\n",
    "        if len(token) > 1 and token not in stopwords\n",
    "    ]\n",
    "\n",
    "\n",
    "feature_extraction_steps = [\n",
    "    TfidfVectorizer(\n",
    "        tokenizer=tokenize_normalize,\n",
    "        sublinear_tf=True,  # Computes the logarithm of the term frequency\n",
    "    ),\n",
    "    TruncatedSVD(random_state=0),\n",
    "]"
   ]
  },
  {
   "cell_type": "markdown",
   "metadata": {},
   "source": [
    "# Training"
   ]
  },
  {
   "cell_type": "code",
   "execution_count": 138,
   "metadata": {},
   "outputs": [],
   "source": [
    "from sklearn.pipeline import make_pipeline\n",
    "from sklearn.model_selection import GridSearchCV\n",
    "from sklearn.ensemble import RandomForestClassifier, GradientBoostingClassifier\n",
    "from sklearn.svm import LinearSVC\n",
    "from sklearn import metrics"
   ]
  },
  {
   "cell_type": "markdown",
   "metadata": {},
   "source": [
    "## Random Forest"
   ]
  },
  {
   "cell_type": "code",
   "execution_count": 83,
   "metadata": {},
   "outputs": [
    {
     "name": "stderr",
     "output_type": "stream",
     "text": [
      "/home/obadakhalili/dev/NLP/text-classification/.venv/lib/python3.8/site-packages/sklearn/model_selection/_split.py:676: UserWarning: The least populated class in y has only 1 members, which is less than n_splits=3.\n",
      "  warnings.warn(\n"
     ]
    },
    {
     "name": "stdout",
     "output_type": "stream",
     "text": [
      "Best parameter(s): {'truncatedsvd__n_components': 50}, with score 0.6582195251427237\n"
     ]
    }
   ],
   "source": [
    "randomforest_gscv = GridSearchCV(\n",
    "    make_pipeline(\n",
    "        *feature_extraction_steps,\n",
    "        RandomForestClassifier(random_state=0, n_estimators=400),\n",
    "    ),\n",
    "    param_grid={\n",
    "        \"truncatedsvd__n_components\": [20, 50],\n",
    "    },\n",
    "    # f1 score for multiclass classification where precision/recall are computed for each class then weight-averaged into one score\n",
    "    scoring=\"f1_weighted\",\n",
    "    cv=3,\n",
    "    n_jobs=-1,\n",
    ")\n",
    "randomforest_gscv.fit(train_docs, train_classes)\n",
    "\n",
    "print(\n",
    "    f\"Best parameter(s): {randomforest_gscv.best_params_}, with score {randomforest_gscv.best_score_}\"\n",
    ")"
   ]
  },
  {
   "cell_type": "code",
   "execution_count": 102,
   "metadata": {},
   "outputs": [],
   "source": [
    "def print_classification_metrics(classifier):\n",
    "    for metric in [\n",
    "        metrics.precision_score,\n",
    "        metrics.recall_score,\n",
    "        metrics.f1_score,\n",
    "        metrics.accuracy_score,\n",
    "    ]:\n",
    "        score = (\n",
    "            metric(test_classes, classifier.predict(test_docs))\n",
    "            if metric == metrics.accuracy_score\n",
    "            else metric(\n",
    "                test_classes,\n",
    "                classifier.predict(test_docs),\n",
    "                average=\"weighted\",\n",
    "                zero_division=1,\n",
    "            )\n",
    "        )\n",
    "        print(f\"{metric.__name__}: {score}\")"
   ]
  },
  {
   "cell_type": "code",
   "execution_count": 105,
   "metadata": {},
   "outputs": [
    {
     "name": "stdout",
     "output_type": "stream",
     "text": [
      "precision_score: 0.674422838074636\n",
      "recall_score: 0.6664719626168224\n",
      "f1_score: 0.6558170979174152\n",
      "accuracy_score: 0.6664719626168224\n"
     ]
    }
   ],
   "source": [
    "randomforest_classifier = randomforest_gscv.best_estimator_\n",
    "print_classification_metrics(randomforest_classifier)"
   ]
  },
  {
   "cell_type": "markdown",
   "metadata": {},
   "source": [
    "## Gradient Boosted Trees"
   ]
  },
  {
   "cell_type": "code",
   "execution_count": 116,
   "metadata": {},
   "outputs": [
    {
     "name": "stderr",
     "output_type": "stream",
     "text": [
      "/home/obadakhalili/dev/NLP/text-classification/.venv/lib/python3.8/site-packages/sklearn/model_selection/_split.py:676: UserWarning: The least populated class in y has only 1 members, which is less than n_splits=2.\n",
      "  warnings.warn(\n"
     ]
    },
    {
     "name": "stdout",
     "output_type": "stream",
     "text": [
      "Best parameter(s): {'gradientboostingclassifier__n_estimators': 100, 'truncatedsvd__n_components': 50}, with score 0.6120292714712305\n"
     ]
    }
   ],
   "source": [
    "gbt_gscv = GridSearchCV(\n",
    "    make_pipeline(\n",
    "        *feature_extraction_steps, GradientBoostingClassifier(random_state=0)\n",
    "    ),\n",
    "    param_grid={\n",
    "        # We already know that 50 components is the best option from our previous experiment with Random Forest\n",
    "        \"truncatedsvd__n_components\": [50],\n",
    "        \"gradientboostingclassifier__n_estimators\": [100, 400],\n",
    "    },\n",
    "    scoring=\"f1_weighted\",\n",
    "    cv=2,\n",
    "    n_jobs=-1,\n",
    ")\n",
    "gbt_gscv.fit(train_docs, train_classes)\n",
    "\n",
    "print(f\"Best parameter(s): {gbt_gscv.best_params_}, with score {gbt_gscv.best_score_}\")"
   ]
  },
  {
   "cell_type": "code",
   "execution_count": 117,
   "metadata": {},
   "outputs": [
    {
     "name": "stdout",
     "output_type": "stream",
     "text": [
      "precision_score: 0.6308613831435813\n",
      "recall_score: 0.6238317757009346\n",
      "f1_score: 0.6138354555748186\n",
      "accuracy_score: 0.6238317757009346\n"
     ]
    }
   ],
   "source": [
    "gbt_classifier = gbt_gscv.best_estimator_\n",
    "print_classification_metrics(gbt_classifier)"
   ]
  },
  {
   "cell_type": "markdown",
   "metadata": {},
   "source": [
    "## SVM"
   ]
  },
  {
   "cell_type": "code",
   "execution_count": 149,
   "metadata": {},
   "outputs": [
    {
     "name": "stderr",
     "output_type": "stream",
     "text": [
      "/home/obadakhalili/dev/NLP/text-classification/.venv/lib/python3.8/site-packages/sklearn/model_selection/_split.py:676: UserWarning: The least populated class in y has only 1 members, which is less than n_splits=5.\n",
      "  warnings.warn(\n"
     ]
    },
    {
     "name": "stdout",
     "output_type": "stream",
     "text": [
      "Best parameter(s): {'linearsvc__C': 10, 'truncatedsvd__n_components': 50}, with score 0.6951564304650335\n"
     ]
    }
   ],
   "source": [
    "svm_gscv = GridSearchCV(\n",
    "    make_pipeline(*feature_extraction_steps, LinearSVC(random_state=0)),\n",
    "    param_grid={\n",
    "        \"truncatedsvd__n_components\": [50],\n",
    "        \"linearsvc__C\": [1, 10],\n",
    "    },\n",
    "    scoring=\"f1_weighted\",\n",
    "    cv=5,\n",
    "    n_jobs=-1,\n",
    ")\n",
    "svm_gscv.fit(train_docs, train_classes)\n",
    "\n",
    "print(f\"Best parameter(s): {svm_gscv.best_params_}, with score {svm_gscv.best_score_}\")"
   ]
  },
  {
   "cell_type": "code",
   "execution_count": 150,
   "metadata": {},
   "outputs": [
    {
     "name": "stdout",
     "output_type": "stream",
     "text": [
      "precision_score: 0.7430014456623284\n",
      "recall_score: 0.731892523364486\n",
      "f1_score: 0.7050519183509971\n",
      "accuracy_score: 0.731892523364486\n"
     ]
    }
   ],
   "source": [
    "svm_classifier = svm_gscv.best_estimator_\n",
    "print_classification_metrics(svm_classifier)"
   ]
  },
  {
   "cell_type": "code",
   "execution_count": null,
   "metadata": {},
   "outputs": [],
   "source": []
  }
 ],
 "metadata": {
  "interpreter": {
   "hash": "ccd39031a067995c29eed4d00e8acd89c1d75b5bbd8e677f58d3b6cfc07438ee"
  },
  "kernelspec": {
   "display_name": "Python 3.8.10 ('.venv': venv)",
   "language": "python",
   "name": "python3"
  },
  "language_info": {
   "codemirror_mode": {
    "name": "ipython",
    "version": 3
   },
   "file_extension": ".py",
   "mimetype": "text/x-python",
   "name": "python",
   "nbconvert_exporter": "python",
   "pygments_lexer": "ipython3",
   "version": "3.8.10"
  },
  "orig_nbformat": 4
 },
 "nbformat": 4,
 "nbformat_minor": 2
}
