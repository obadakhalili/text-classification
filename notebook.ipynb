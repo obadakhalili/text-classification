{
 "cells": [
  {
   "cell_type": "code",
   "execution_count": 1,
   "metadata": {},
   "outputs": [],
   "source": [
    "import numpy as np\n",
    "\n",
    "np.random.seed(10)"
   ]
  },
  {
   "cell_type": "markdown",
   "metadata": {},
   "source": [
    "# Reading the corpus "
   ]
  },
  {
   "cell_type": "code",
   "execution_count": 2,
   "metadata": {},
   "outputs": [],
   "source": [
    "import rarfile\n",
    "import re\n",
    "\n",
    "corpus = []\n",
    "\n",
    "with rarfile.RarFile(\"./data/corpus.rar\") as rar_corpus:\n",
    "    for file in rar_corpus.infolist():\n",
    "        if file.is_file():\n",
    "            with rar_corpus.open(file) as doc:\n",
    "                doc_class, doc_name = re.search(\n",
    "                    r\"training\\/(.*)\\/(.*)\", file.filename\n",
    "                ).groups()\n",
    "                doc_content = doc.read().decode(\"utf-8\")\n",
    "                corpus.append((doc_class, doc_content))"
   ]
  },
  {
   "cell_type": "markdown",
   "metadata": {},
   "source": [
    "# Building the dataset"
   ]
  },
  {
   "cell_type": "code",
   "execution_count": 3,
   "metadata": {},
   "outputs": [],
   "source": [
    "from sklearn.model_selection import train_test_split\n",
    "import matplotlib.pyplot as plt\n",
    "import pandas as pd"
   ]
  },
  {
   "cell_type": "code",
   "execution_count": 29,
   "metadata": {},
   "outputs": [
    {
     "data": {
      "image/png": "[encoded data removed]",
      "text/plain": [
       "<Figure size 432x288 with 1 Axes>"
      ]
     },
     "metadata": {
      "needs_background": "light"
     },
     "output_type": "display_data"
    }
   ],
   "source": [
    "docs = [doc for _, doc in corpus]\n",
    "classes = [doc_class for doc_class, _ in corpus]\n",
    "\n",
    "plt.hist(classes)\n",
    "plt.show()"
   ]
  },
  {
   "cell_type": "code",
   "execution_count": 5,
   "metadata": {},
   "outputs": [
    {
     "data": {
      "text/html": [
       "<div>\n",
       "<style scoped>\n",
       "    .dataframe tbody tr th:only-of-type {\n",
       "        vertical-align: middle;\n",
       "    }\n",
       "\n",
       "    .dataframe tbody tr th {\n",
       "        vertical-align: top;\n",
       "    }\n",
       "\n",
       "    .dataframe thead th {\n",
       "        text-align: right;\n",
       "    }\n",
       "</style>\n",
       "<table border=\"1\" class=\"dataframe\">\n",
       "  <thead>\n",
       "    <tr style=\"text-align: right;\">\n",
       "      <th></th>\n",
       "      <th>docs</th>\n",
       "      <th>classes</th>\n",
       "    </tr>\n",
       "  </thead>\n",
       "  <tbody>\n",
       "    <tr>\n",
       "      <th>0</th>\n",
       "      <td>\\n\\r\\nCOMPUTER TERMINAL SYSTEMS &lt;CPML&gt; COMPLET...</td>\n",
       "      <td>acq</td>\n",
       "    </tr>\n",
       "    <tr>\n",
       "      <th>1</th>\n",
       "      <td>\\n\\r\\nOHIO MATTRESS &lt;OMT&gt; MAY HAVE LOWER 1ST Q...</td>\n",
       "      <td>acq</td>\n",
       "    </tr>\n",
       "    <tr>\n",
       "      <th>2</th>\n",
       "      <td>\\n\\r\\nMCLEAN'S &lt;MII&gt; U.S. LINES SETS ASSET TRA...</td>\n",
       "      <td>acq</td>\n",
       "    </tr>\n",
       "    <tr>\n",
       "      <th>3</th>\n",
       "      <td>\\n\\r\\nCHEMLAWN &lt;CHEM&gt; RISES ON HOPES FOR HIGHE...</td>\n",
       "      <td>acq</td>\n",
       "    </tr>\n",
       "    <tr>\n",
       "      <th>4</th>\n",
       "      <td>\\n\\r\\n&lt;COFAB INC&gt; BUYS GULFEX FOR UNDISCLOSED ...</td>\n",
       "      <td>acq</td>\n",
       "    </tr>\n",
       "    <tr>\n",
       "      <th>...</th>\n",
       "      <td>...</td>\n",
       "      <td>...</td>\n",
       "    </tr>\n",
       "    <tr>\n",
       "      <th>11408</th>\n",
       "      <td>\\n\\r\\nPEGASUS GOLD &lt;PGULF&gt; STARTS MILLING IN M...</td>\n",
       "      <td>zinc</td>\n",
       "    </tr>\n",
       "    <tr>\n",
       "      <th>11409</th>\n",
       "      <td>\\n\\r\\nWORLD ZINC STOCKS FALL 7,700 TONNES IN F...</td>\n",
       "      <td>zinc</td>\n",
       "    </tr>\n",
       "    <tr>\n",
       "      <th>11410</th>\n",
       "      <td>\\n\\r\\nLME DETAILS MARCH 1987 TURNOVER\\r\\n\\n   ...</td>\n",
       "      <td>zinc</td>\n",
       "    </tr>\n",
       "    <tr>\n",
       "      <th>11411</th>\n",
       "      <td>\\n\\r\\nBALL &lt;BLL&gt; TO SUPPLY PENNY BLANKS TO MIN...</td>\n",
       "      <td>zinc</td>\n",
       "    </tr>\n",
       "    <tr>\n",
       "      <th>11412</th>\n",
       "      <td>\\n\\r\\nWESTMIN TO RAISE MYRA FALLS CAPACITY BY ...</td>\n",
       "      <td>zinc</td>\n",
       "    </tr>\n",
       "  </tbody>\n",
       "</table>\n",
       "<p>11413 rows × 2 columns</p>\n",
       "</div>"
      ],
      "text/plain": [
       "                                                    docs classes\n",
       "0      \\n\\r\\nCOMPUTER TERMINAL SYSTEMS <CPML> COMPLET...     acq\n",
       "1      \\n\\r\\nOHIO MATTRESS <OMT> MAY HAVE LOWER 1ST Q...     acq\n",
       "2      \\n\\r\\nMCLEAN'S <MII> U.S. LINES SETS ASSET TRA...     acq\n",
       "3      \\n\\r\\nCHEMLAWN <CHEM> RISES ON HOPES FOR HIGHE...     acq\n",
       "4      \\n\\r\\n<COFAB INC> BUYS GULFEX FOR UNDISCLOSED ...     acq\n",
       "...                                                  ...     ...\n",
       "11408  \\n\\r\\nPEGASUS GOLD <PGULF> STARTS MILLING IN M...    zinc\n",
       "11409  \\n\\r\\nWORLD ZINC STOCKS FALL 7,700 TONNES IN F...    zinc\n",
       "11410  \\n\\r\\nLME DETAILS MARCH 1987 TURNOVER\\r\\n\\n   ...    zinc\n",
       "11411  \\n\\r\\nBALL <BLL> TO SUPPLY PENNY BLANKS TO MIN...    zinc\n",
       "11412  \\n\\r\\nWESTMIN TO RAISE MYRA FALLS CAPACITY BY ...    zinc\n",
       "\n",
       "[11413 rows x 2 columns]"
      ]
     },
     "execution_count": 5,
     "metadata": {},
     "output_type": "execute_result"
    }
   ],
   "source": [
    "df = pd.DataFrame({\"docs\": docs, \"classes\": classes})\n",
    "df"
   ]
  },
  {
   "cell_type": "markdown",
   "metadata": {},
   "source": [
    "Drop duplicates"
   ]
  },
  {
   "cell_type": "code",
   "execution_count": 6,
   "metadata": {},
   "outputs": [
    {
     "name": "stdout",
     "output_type": "stream",
     "text": [
      "160\n"
     ]
    }
   ],
   "source": [
    "print(df.duplicated().sum())\n",
    "df.drop_duplicates(inplace=True)"
   ]
  },
  {
   "cell_type": "code",
   "execution_count": 7,
   "metadata": {},
   "outputs": [],
   "source": [
    "docs = df[\"docs\"].values\n",
    "classes = df[\"classes\"].values"
   ]
  },
  {
   "cell_type": "markdown",
   "metadata": {},
   "source": [
    "Remove documents that their classes have less than 5 samples"
   ]
  },
  {
   "cell_type": "code",
   "execution_count": 8,
   "metadata": {},
   "outputs": [],
   "source": [
    "class_counts = {}\n",
    "for doc_class in classes:\n",
    "    if doc_class not in class_counts:\n",
    "        class_counts[doc_class] = 0\n",
    "    class_counts[doc_class] += 1\n",
    "\n",
    "low_class_counts = [doc_class for doc_class, count in class_counts.items() if count < 5]\n",
    "low_class_counts_indices = [\n",
    "    idx for idx, doc_class in enumerate(classes) if doc_class in low_class_counts\n",
    "]\n",
    "\n",
    "docs = [doc for idx, doc in enumerate(docs) if idx not in low_class_counts_indices]\n",
    "classes = [\n",
    "    doc_class\n",
    "    for idx, doc_class in enumerate(classes)\n",
    "    if idx not in low_class_counts_indices\n",
    "]"
   ]
  },
  {
   "cell_type": "code",
   "execution_count": 9,
   "metadata": {},
   "outputs": [
    {
     "data": {
      "image/png": "[encoded data removed]",
      "text/plain": [
       "<Figure size 432x288 with 1 Axes>"
      ]
     },
     "metadata": {
      "needs_background": "light"
     },
     "output_type": "display_data"
    }
   ],
   "source": [
    "train_docs, test_docs, train_classes, test_classes = train_test_split(\n",
    "    docs, classes, test_size=0.15, stratify=classes\n",
    ")\n",
    "\n",
    "plt.hist(train_classes)\n",
    "plt.hist(test_classes)\n",
    "plt.show()"
   ]
  },
  {
   "cell_type": "markdown",
   "metadata": {},
   "source": [
    "# Feature extraction and selection from corpus"
   ]
  },
  {
   "cell_type": "code",
   "execution_count": 10,
   "metadata": {},
   "outputs": [
    {
     "name": "stderr",
     "output_type": "stream",
     "text": [
      "[nltk_data] Downloading package stopwords to\n",
      "[nltk_data]     /home/obadakhalili/nltk_data...\n",
      "[nltk_data]   Package stopwords is already up-to-date!\n"
     ]
    }
   ],
   "source": [
    "from sklearn.feature_extraction.text import TfidfVectorizer\n",
    "from sklearn.decomposition import TruncatedSVD\n",
    "from nltk.tokenize import TreebankWordTokenizer\n",
    "from nltk.stem.porter import PorterStemmer\n",
    "import nltk\n",
    "\n",
    "nltk.download(\"stopwords\")\n",
    "\n",
    "treebank_word_tokenizer = TreebankWordTokenizer()\n",
    "porter_stemmer = PorterStemmer()"
   ]
  },
  {
   "cell_type": "code",
   "execution_count": 11,
   "metadata": {},
   "outputs": [],
   "source": [
    "def tokenize_normalize(\n",
    "    tokenize=treebank_word_tokenizer.tokenize,\n",
    "    normalize=porter_stemmer.stem,\n",
    "    stopwords=nltk.corpus.stopwords.words(\"english\"),\n",
    "):\n",
    "    return lambda doc: [\n",
    "        normalize(token)\n",
    "        for token in tokenize(doc)\n",
    "        if len(token) > 1 and token not in stopwords\n",
    "    ]\n",
    "\n",
    "\n",
    "feature_extraction_steps = [\n",
    "    TfidfVectorizer(tokenizer=tokenize_normalize(), sublinear_tf=True),\n",
    "    TruncatedSVD(n_components=500),\n",
    "]"
   ]
  },
  {
   "cell_type": "markdown",
   "metadata": {},
   "source": [
    "# Training"
   ]
  },
  {
   "cell_type": "code",
   "execution_count": 12,
   "metadata": {},
   "outputs": [
    {
     "name": "stderr",
     "output_type": "stream",
     "text": [
      "2022-04-22 20:46:59.757188: W tensorflow/stream_executor/platform/default/dso_loader.cc:64] Could not load dynamic library 'libcudart.so.11.0'; dlerror: libcudart.so.11.0: cannot open shared object file: No such file or directory\n",
      "2022-04-22 20:46:59.757224: I tensorflow/stream_executor/cuda/cudart_stub.cc:29] Ignore above cudart dlerror if you do not have a GPU set up on your machine.\n"
     ]
    }
   ],
   "source": [
    "from sklearn.pipeline import make_pipeline\n",
    "from sklearn.model_selection import GridSearchCV\n",
    "from sklearn.ensemble import RandomForestClassifier, AdaBoostClassifier\n",
    "from sklearn.svm import LinearSVC\n",
    "from sklearn.naive_bayes import MultinomialNB\n",
    "from sklearn.preprocessing import LabelEncoder\n",
    "from sklearn import metrics\n",
    "from tensorflow import keras"
   ]
  },
  {
   "cell_type": "markdown",
   "metadata": {},
   "source": [
    "## Random Forest"
   ]
  },
  {
   "cell_type": "code",
   "execution_count": 13,
   "metadata": {},
   "outputs": [
    {
     "name": "stderr",
     "output_type": "stream",
     "text": [
      "/home/obadakhalili/dev/NLP/text-classification/.venv/lib/python3.8/site-packages/joblib/externals/loky/process_executor.py:702: UserWarning: A worker stopped while some jobs were given to the executor. This can be caused by a too short worker timeout or by a memory leak.\n",
      "  warnings.warn(\n"
     ]
    },
    {
     "name": "stdout",
     "output_type": "stream",
     "text": [
      "Best parameter(s): {'randomforestclassifier__max_depth': 100, 'randomforestclassifier__max_features': 'sqrt', 'randomforestclassifier__min_samples_split': 10, 'randomforestclassifier__n_estimators': 400, 'tfidfvectorizer__sublinear_tf': True, 'truncatedsvd__n_components': 50}, with score 0.6500751539906754\n"
     ]
    }
   ],
   "source": [
    "randomforest_gscv = GridSearchCV(\n",
    "    make_pipeline(\n",
    "        *feature_extraction_steps,\n",
    "        RandomForestClassifier(),\n",
    "    ),\n",
    "    param_grid={\n",
    "        \"tfidfvectorizer__sublinear_tf\": [True, False],\n",
    "        \"truncatedsvd__n_components\": [50, 500],\n",
    "        \"randomforestclassifier__max_depth\": [None, 100],\n",
    "        \"randomforestclassifier__min_samples_split\": [10, 50],\n",
    "        \"randomforestclassifier__max_features\": [\"sqrt\", \"log2\"],\n",
    "        \"randomforestclassifier__n_estimators\": [100, 400],\n",
    "    },\n",
    "    # f1 score for multiclass classification where precision/recall are computed for each class then weight-averaged into one score\n",
    "    scoring=\"f1_weighted\",\n",
    "    cv=3,\n",
    "    n_jobs=-1,\n",
    ")\n",
    "randomforest_gscv.fit(train_docs, train_classes)\n",
    "\n",
    "print(\n",
    "    f\"Best parameter(s): {randomforest_gscv.best_params_}, with score {randomforest_gscv.best_score_}\"\n",
    ")"
   ]
  },
  {
   "cell_type": "code",
   "execution_count": 14,
   "metadata": {},
   "outputs": [],
   "source": [
    "def print_classification_metrics(test_classes, predictions):\n",
    "    for metric in [\n",
    "        metrics.precision_score,\n",
    "        metrics.recall_score,\n",
    "        metrics.f1_score,\n",
    "        metrics.accuracy_score,\n",
    "    ]:\n",
    "        score = (\n",
    "            metric(test_classes, predictions)\n",
    "            if metric == metrics.accuracy_score\n",
    "            else metric(\n",
    "                test_classes,\n",
    "                predictions,\n",
    "                average=\"weighted\",\n",
    "                zero_division=1,\n",
    "            )\n",
    "        )\n",
    "        print(f\"{metric.__name__}: {score}\")"
   ]
  },
  {
   "cell_type": "code",
   "execution_count": 16,
   "metadata": {},
   "outputs": [
    {
     "name": "stdout",
     "output_type": "stream",
     "text": [
      "precision_score: 0.6690607035543426\n",
      "recall_score: 0.6682520808561236\n",
      "f1_score: 0.6520409788639594\n",
      "accuracy_score: 0.6682520808561236\n"
     ]
    }
   ],
   "source": [
    "randomforest_classifier = randomforest_gscv.best_estimator_\n",
    "print_classification_metrics(test_classes, randomforest_classifier.predict(test_docs))"
   ]
  },
  {
   "cell_type": "markdown",
   "metadata": {},
   "source": [
    "## SVM"
   ]
  },
  {
   "cell_type": "code",
   "execution_count": 17,
   "metadata": {},
   "outputs": [
    {
     "name": "stdout",
     "output_type": "stream",
     "text": [
      "Best parameter(s): {'linearsvc__C': 1, 'tfidfvectorizer__sublinear_tf': False, 'truncatedsvd__n_components': 500}, with score 0.72595771060772\n"
     ]
    }
   ],
   "source": [
    "svm_gscv = GridSearchCV(\n",
    "    make_pipeline(*feature_extraction_steps, LinearSVC()),\n",
    "    param_grid={\n",
    "        \"tfidfvectorizer__sublinear_tf\": [True, False],\n",
    "        \"truncatedsvd__n_components\": [50, 500],\n",
    "        \"linearsvc__C\": [0.1, 1, 10],\n",
    "    },\n",
    "    scoring=\"f1_weighted\",\n",
    "    cv=3,\n",
    "    n_jobs=-1,\n",
    ")\n",
    "svm_gscv.fit(train_docs, train_classes)\n",
    "\n",
    "print(f\"Best parameter(s): {svm_gscv.best_params_}, with score {svm_gscv.best_score_}\")"
   ]
  },
  {
   "cell_type": "code",
   "execution_count": 18,
   "metadata": {},
   "outputs": [
    {
     "name": "stdout",
     "output_type": "stream",
     "text": [
      "precision_score: 0.7376975597580621\n",
      "recall_score: 0.7384066587395958\n",
      "f1_score: 0.7281352538336796\n",
      "accuracy_score: 0.7384066587395958\n"
     ]
    }
   ],
   "source": [
    "svm_classifier = svm_gscv.best_estimator_\n",
    "print_classification_metrics(test_classes, svm_classifier.predict(test_docs))"
   ]
  },
  {
   "cell_type": "markdown",
   "metadata": {},
   "source": [
    "# AdaBoost"
   ]
  },
  {
   "cell_type": "code",
   "execution_count": 19,
   "metadata": {},
   "outputs": [
    {
     "name": "stdout",
     "output_type": "stream",
     "text": [
      "Best parameter(s): {'adaboostclassifier__learning_rate': 0.1, 'adaboostclassifier__n_estimators': 400, 'tfidfvectorizer__sublinear_tf': True, 'truncatedsvd__n_components': 50}, with score 0.4513310856286507\n"
     ]
    }
   ],
   "source": [
    "adaboost_gscv = GridSearchCV(\n",
    "    make_pipeline(*feature_extraction_steps, AdaBoostClassifier()),\n",
    "    param_grid={\n",
    "        \"tfidfvectorizer__sublinear_tf\": [True, False],\n",
    "        \"truncatedsvd__n_components\": [50, 500],\n",
    "        \"adaboostclassifier__n_estimators\": [100, 400],\n",
    "        \"adaboostclassifier__learning_rate\": [0.1, 0.5, 1],\n",
    "    },\n",
    "    scoring=\"f1_weighted\",\n",
    "    cv=3,\n",
    "    n_jobs=-1,\n",
    ")\n",
    "adaboost_gscv.fit(train_docs, train_classes)\n",
    "\n",
    "print(\n",
    "    f\"Best parameter(s): {adaboost_gscv.best_params_}, with score {adaboost_gscv.best_score_}\"\n",
    ")"
   ]
  },
  {
   "cell_type": "code",
   "execution_count": 20,
   "metadata": {},
   "outputs": [
    {
     "name": "stdout",
     "output_type": "stream",
     "text": [
      "precision_score: 0.6161580301571902\n",
      "recall_score: 0.4982164090368609\n",
      "f1_score: 0.47559483229664085\n",
      "accuracy_score: 0.4982164090368609\n"
     ]
    }
   ],
   "source": [
    "adaboost_classifier = adaboost_gscv.best_estimator_\n",
    "print_classification_metrics(test_classes, adaboost_classifier.predict(test_docs))"
   ]
  },
  {
   "cell_type": "markdown",
   "metadata": {},
   "source": [
    "## Naive Bayes"
   ]
  },
  {
   "cell_type": "code",
   "execution_count": 21,
   "metadata": {},
   "outputs": [
    {
     "name": "stdout",
     "output_type": "stream",
     "text": [
      "Best parameter(s): {'tfidfvectorizer__sublinear_tf': False}, with score 0.4373312621600521\n"
     ]
    }
   ],
   "source": [
    "MNNB_gscv = GridSearchCV(\n",
    "    make_pipeline(feature_extraction_steps[0], MultinomialNB()),\n",
    "    param_grid={\n",
    "        \"tfidfvectorizer__sublinear_tf\": [True, False],\n",
    "    },\n",
    "    scoring=\"f1_weighted\",\n",
    "    cv=3,\n",
    "    n_jobs=-1,\n",
    ")\n",
    "MNNB_gscv.fit(train_docs, train_classes)\n",
    "\n",
    "print(\n",
    "    f\"Best parameter(s): {MNNB_gscv.best_params_}, with score {MNNB_gscv.best_score_}\"\n",
    ")"
   ]
  },
  {
   "cell_type": "code",
   "execution_count": 22,
   "metadata": {},
   "outputs": [
    {
     "name": "stdout",
     "output_type": "stream",
     "text": [
      "precision_score: 0.7473230591712232\n",
      "recall_score: 0.5648038049940547\n",
      "f1_score: 0.46694924677194377\n",
      "accuracy_score: 0.5648038049940547\n"
     ]
    }
   ],
   "source": [
    "MNNB = MNNB_gscv.best_estimator_\n",
    "print_classification_metrics(test_classes, MNNB.predict(test_docs))"
   ]
  },
  {
   "cell_type": "markdown",
   "metadata": {},
   "source": [
    "## FCNN"
   ]
  },
  {
   "cell_type": "code",
   "execution_count": 23,
   "metadata": {},
   "outputs": [],
   "source": [
    "text_preprocessor = make_pipeline(\n",
    "    *feature_extraction_steps,\n",
    ")\n",
    "text_preprocessor.fit([*train_docs, *test_docs])\n",
    "\n",
    "train_vect_docs = text_preprocessor.transform(train_docs)\n",
    "test_vect_docs = text_preprocessor.transform(test_docs)"
   ]
  },
  {
   "cell_type": "code",
   "execution_count": 24,
   "metadata": {},
   "outputs": [],
   "source": [
    "classes_encoder = LabelEncoder()\n",
    "classes_encoder.fit([*train_classes, *test_classes])\n",
    "\n",
    "train_numerical_classes = classes_encoder.transform(train_classes)\n",
    "test_numerical_classes = classes_encoder.transform(test_classes)"
   ]
  },
  {
   "cell_type": "code",
   "execution_count": 30,
   "metadata": {},
   "outputs": [],
   "source": [
    "fcnn = keras.Sequential(\n",
    "    [\n",
    "        keras.layers.Dense(100, activation=\"relu\"),\n",
    "        keras.layers.Dropout(0.2),\n",
    "        keras.layers.Dense(len(classes_encoder.classes_), activation=\"softmax\"),\n",
    "    ]\n",
    ")\n",
    "fcnn.compile(\n",
    "    optimizer=\"adam\",\n",
    "    loss=\"sparse_categorical_crossentropy\",\n",
    "    metrics=[\"accuracy\"],\n",
    ")"
   ]
  },
  {
   "cell_type": "code",
   "execution_count": 26,
   "metadata": {},
   "outputs": [
    {
     "name": "stdout",
     "output_type": "stream",
     "text": [
      "Epoch 1/10\n",
      "298/298 [==============================] - 1s 2ms/step - loss: 2.8968 - accuracy: 0.3855\n",
      "Epoch 2/10\n",
      "298/298 [==============================] - 1s 2ms/step - loss: 1.7289 - accuracy: 0.5989\n",
      "Epoch 3/10\n",
      "298/298 [==============================] - 1s 2ms/step - loss: 1.2955 - accuracy: 0.6909\n",
      "Epoch 4/10\n",
      "298/298 [==============================] - 1s 2ms/step - loss: 1.0678 - accuracy: 0.7287\n",
      "Epoch 5/10\n",
      "298/298 [==============================] - 1s 2ms/step - loss: 0.9269 - accuracy: 0.7457\n",
      "Epoch 6/10\n",
      "298/298 [==============================] - 1s 2ms/step - loss: 0.8298 - accuracy: 0.7586\n",
      "Epoch 7/10\n",
      "298/298 [==============================] - 1s 2ms/step - loss: 0.7538 - accuracy: 0.7659\n",
      "Epoch 8/10\n",
      "298/298 [==============================] - 1s 2ms/step - loss: 0.7016 - accuracy: 0.7748\n",
      "Epoch 9/10\n",
      "298/298 [==============================] - 1s 2ms/step - loss: 0.6612 - accuracy: 0.7759\n",
      "Epoch 10/10\n",
      "298/298 [==============================] - 1s 2ms/step - loss: 0.6239 - accuracy: 0.7841\n"
     ]
    },
    {
     "data": {
      "text/plain": [
       "<keras.callbacks.History at 0x7f7055daacd0>"
      ]
     },
     "execution_count": 26,
     "metadata": {},
     "output_type": "execute_result"
    }
   ],
   "source": [
    "fcnn.fit(train_vect_docs, train_numerical_classes, epochs=10, batch_size=32)"
   ]
  },
  {
   "cell_type": "code",
   "execution_count": 27,
   "metadata": {},
   "outputs": [
    {
     "name": "stdout",
     "output_type": "stream",
     "text": [
      "precision_score: 0.7554004508678043\n",
      "recall_score: 0.748513674197384\n",
      "f1_score: 0.7281356964377464\n",
      "accuracy_score: 0.748513674197384\n"
     ]
    }
   ],
   "source": [
    "print_classification_metrics(\n",
    "    test_numerical_classes, fcnn.predict(test_vect_docs).argmax(axis=1)\n",
    ")"
   ]
  }
 ],
 "metadata": {
  "interpreter": {
   "hash": "ccd39031a067995c29eed4d00e8acd89c1d75b5bbd8e677f58d3b6cfc07438ee"
  },
  "kernelspec": {
   "display_name": "Python 3.8.10 ('.venv': venv)",
   "language": "python",
   "name": "python3"
  },
  "language_info": {
   "codemirror_mode": {
    "name": "ipython",
    "version": 3
   },
   "file_extension": ".py",
   "mimetype": "text/x-python",
   "name": "python",
   "nbconvert_exporter": "python",
   "pygments_lexer": "ipython3",
   "version": "3.8.10"
  },
  "orig_nbformat": 4
 },
 "nbformat": 4,
 "nbformat_minor": 2
}
